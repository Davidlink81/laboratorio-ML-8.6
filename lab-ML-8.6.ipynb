{
 "cells": [
  {
   "cell_type": "markdown",
   "id": "7d1a87f2-fe42-45ff-ae11-d6193e4cb462",
   "metadata": {
    "tags": []
   },
   "source": [
    "# Lab | Cross Validation\n",
    "\n",
    "For this lab, we will build a model on customer churn binary classification problem. You will be using `files_for_lab/Customer-Churn.csv` file.\n",
    "\n",
    "\n",
    "\n",
    "### Instructions\n",
    "\n",
    "1. Apply SMOTE for upsampling the data\n",
    "\n",
    "    - Use logistic regression to fit the model and compute the accuracy of the model.\n",
    "    - Use decision tree classifier to fit the model and compute the accuracy of the model.\n",
    "    - Compare the accuracies of the two models.\n",
    "\n",
    "\n",
    "\n",
    "2. Apply TomekLinks for downsampling\n",
    "\n",
    "    - It is important to remember that it does not make the two classes equal but only removes the points from the majority class that are close to other points in minority class.\n",
    "    - Use logistic regression to fit the model and compute the accuracy of the model.\n",
    "    - Use decision tree classifier to fit the model and compute the accuracy of the model.\n",
    "    - Compare the accuracies of the two models.\n",
    "    - You can also apply this algorithm one more time and check the how the imbalance in the two classes changed from the last time.\n",
    "\n"
   ]
  },
  {
   "cell_type": "markdown",
   "id": "cece639f-9fd8-4116-8f33-c279175f6e25",
   "metadata": {},
   "source": [
    "# My Code"
   ]
  },
  {
   "cell_type": "code",
   "execution_count": 36,
   "id": "b8299299-b837-4759-adb3-ef4c21fef767",
   "metadata": {
    "tags": []
   },
   "outputs": [],
   "source": [
    "# Importamos las librerias que vamos a necesitar\n",
    "\n",
    "# manejo bbdd\n",
    "import pandas as pd\n",
    "import numpy as np\n",
    "pd.set_option('display.max_columns', None)\n",
    "import warnings\n",
    "warnings.filterwarnings('ignore')\n",
    "import datetime\n",
    "\n",
    "#gráficas\n",
    "import matplotlib.pyplot as plt\n",
    "%matplotlib inline\n",
    "import seaborn as sns\n",
    "\n",
    "#estadística\n",
    "import math\n",
    "from scipy.stats import norm\n",
    "from scipy import stats #para box-cox entre otros\n",
    "from scipy.stats import skew\n",
    "\n",
    "#preprocesamiento\n",
    "from sklearn.preprocessing import MinMaxScaler\n",
    "from sklearn.preprocessing import StandardScaler\n",
    "\n",
    "#modelos y evaluación\n",
    "from sklearn.model_selection import train_test_split\n",
    "from sklearn import linear_model\n",
    "from sklearn.metrics import mean_squared_error,r2_score\n",
    "from sklearn.preprocessing import StandardScaler\n",
    "from sklearn.linear_model import LogisticRegression\n",
    "from sklearn.metrics import accuracy_score, classification_report, confusion_matrix\n",
    "from sklearn.tree import DecisionTreeClassifier\n",
    "\n",
    "import statsmodels.api as sm\n",
    "from statsmodels.formula.api import ols\n",
    "\n",
    "from imblearn.over_sampling import SMOTE\n",
    "from imblearn.under_sampling import TomekLinks\n",
    "\n"
   ]
  },
  {
   "cell_type": "code",
   "execution_count": 20,
   "id": "3bb85800-3c9d-4fb4-a74a-646e84b71e0f",
   "metadata": {
    "tags": []
   },
   "outputs": [],
   "source": [
    "#Vamos a cargar los datos\n",
    "data = pd.read_csv('Customer-Churn.txt')"
   ]
  },
  {
   "cell_type": "code",
   "execution_count": 21,
   "id": "f5612132-6ea6-435b-98cf-5bfeaa3368f2",
   "metadata": {
    "tags": []
   },
   "outputs": [
    {
     "data": {
      "text/html": [
       "<div>\n",
       "<style scoped>\n",
       "    .dataframe tbody tr th:only-of-type {\n",
       "        vertical-align: middle;\n",
       "    }\n",
       "\n",
       "    .dataframe tbody tr th {\n",
       "        vertical-align: top;\n",
       "    }\n",
       "\n",
       "    .dataframe thead th {\n",
       "        text-align: right;\n",
       "    }\n",
       "</style>\n",
       "<table border=\"1\" class=\"dataframe\">\n",
       "  <thead>\n",
       "    <tr style=\"text-align: right;\">\n",
       "      <th></th>\n",
       "      <th>gender</th>\n",
       "      <th>SeniorCitizen</th>\n",
       "      <th>Partner</th>\n",
       "      <th>Dependents</th>\n",
       "      <th>tenure</th>\n",
       "      <th>PhoneService</th>\n",
       "      <th>OnlineSecurity</th>\n",
       "      <th>OnlineBackup</th>\n",
       "      <th>DeviceProtection</th>\n",
       "      <th>TechSupport</th>\n",
       "      <th>StreamingTV</th>\n",
       "      <th>StreamingMovies</th>\n",
       "      <th>Contract</th>\n",
       "      <th>MonthlyCharges</th>\n",
       "      <th>TotalCharges</th>\n",
       "      <th>Churn</th>\n",
       "    </tr>\n",
       "  </thead>\n",
       "  <tbody>\n",
       "    <tr>\n",
       "      <th>0</th>\n",
       "      <td>Female</td>\n",
       "      <td>0</td>\n",
       "      <td>Yes</td>\n",
       "      <td>No</td>\n",
       "      <td>1</td>\n",
       "      <td>No</td>\n",
       "      <td>No</td>\n",
       "      <td>Yes</td>\n",
       "      <td>No</td>\n",
       "      <td>No</td>\n",
       "      <td>No</td>\n",
       "      <td>No</td>\n",
       "      <td>Month-to-month</td>\n",
       "      <td>29.85</td>\n",
       "      <td>29.85</td>\n",
       "      <td>No</td>\n",
       "    </tr>\n",
       "    <tr>\n",
       "      <th>1</th>\n",
       "      <td>Male</td>\n",
       "      <td>0</td>\n",
       "      <td>No</td>\n",
       "      <td>No</td>\n",
       "      <td>34</td>\n",
       "      <td>Yes</td>\n",
       "      <td>Yes</td>\n",
       "      <td>No</td>\n",
       "      <td>Yes</td>\n",
       "      <td>No</td>\n",
       "      <td>No</td>\n",
       "      <td>No</td>\n",
       "      <td>One year</td>\n",
       "      <td>56.95</td>\n",
       "      <td>1889.5</td>\n",
       "      <td>No</td>\n",
       "    </tr>\n",
       "    <tr>\n",
       "      <th>2</th>\n",
       "      <td>Male</td>\n",
       "      <td>0</td>\n",
       "      <td>No</td>\n",
       "      <td>No</td>\n",
       "      <td>2</td>\n",
       "      <td>Yes</td>\n",
       "      <td>Yes</td>\n",
       "      <td>Yes</td>\n",
       "      <td>No</td>\n",
       "      <td>No</td>\n",
       "      <td>No</td>\n",
       "      <td>No</td>\n",
       "      <td>Month-to-month</td>\n",
       "      <td>53.85</td>\n",
       "      <td>108.15</td>\n",
       "      <td>Yes</td>\n",
       "    </tr>\n",
       "    <tr>\n",
       "      <th>3</th>\n",
       "      <td>Male</td>\n",
       "      <td>0</td>\n",
       "      <td>No</td>\n",
       "      <td>No</td>\n",
       "      <td>45</td>\n",
       "      <td>No</td>\n",
       "      <td>Yes</td>\n",
       "      <td>No</td>\n",
       "      <td>Yes</td>\n",
       "      <td>Yes</td>\n",
       "      <td>No</td>\n",
       "      <td>No</td>\n",
       "      <td>One year</td>\n",
       "      <td>42.30</td>\n",
       "      <td>1840.75</td>\n",
       "      <td>No</td>\n",
       "    </tr>\n",
       "    <tr>\n",
       "      <th>4</th>\n",
       "      <td>Female</td>\n",
       "      <td>0</td>\n",
       "      <td>No</td>\n",
       "      <td>No</td>\n",
       "      <td>2</td>\n",
       "      <td>Yes</td>\n",
       "      <td>No</td>\n",
       "      <td>No</td>\n",
       "      <td>No</td>\n",
       "      <td>No</td>\n",
       "      <td>No</td>\n",
       "      <td>No</td>\n",
       "      <td>Month-to-month</td>\n",
       "      <td>70.70</td>\n",
       "      <td>151.65</td>\n",
       "      <td>Yes</td>\n",
       "    </tr>\n",
       "  </tbody>\n",
       "</table>\n",
       "</div>"
      ],
      "text/plain": [
       "   gender  SeniorCitizen Partner Dependents  tenure PhoneService  \\\n",
       "0  Female              0     Yes         No       1           No   \n",
       "1    Male              0      No         No      34          Yes   \n",
       "2    Male              0      No         No       2          Yes   \n",
       "3    Male              0      No         No      45           No   \n",
       "4  Female              0      No         No       2          Yes   \n",
       "\n",
       "  OnlineSecurity OnlineBackup DeviceProtection TechSupport StreamingTV  \\\n",
       "0             No          Yes               No          No          No   \n",
       "1            Yes           No              Yes          No          No   \n",
       "2            Yes          Yes               No          No          No   \n",
       "3            Yes           No              Yes         Yes          No   \n",
       "4             No           No               No          No          No   \n",
       "\n",
       "  StreamingMovies        Contract  MonthlyCharges TotalCharges Churn  \n",
       "0              No  Month-to-month           29.85        29.85    No  \n",
       "1              No        One year           56.95       1889.5    No  \n",
       "2              No  Month-to-month           53.85       108.15   Yes  \n",
       "3              No        One year           42.30      1840.75    No  \n",
       "4              No  Month-to-month           70.70       151.65   Yes  "
      ]
     },
     "execution_count": 21,
     "metadata": {},
     "output_type": "execute_result"
    }
   ],
   "source": [
    "data.head()"
   ]
  },
  {
   "cell_type": "code",
   "execution_count": 22,
   "id": "47319203-0ed7-4c01-84f2-2e8314d05134",
   "metadata": {
    "tags": []
   },
   "outputs": [
    {
     "name": "stdout",
     "output_type": "stream",
     "text": [
      "Index(['gender', 'senior_citizen', 'partner', 'dependents', 'tenure',\n",
      "       'phone_service', 'online_security', 'online_backup',\n",
      "       'device_protection', 'tech_support', 'streaming_tv', 'streaming_movies',\n",
      "       'contract', 'monthly_charges', 'total_charges', 'churn'],\n",
      "      dtype='object')\n"
     ]
    }
   ],
   "source": [
    "#Voy a realizar buenas practicas a través de una función.\n",
    "#Quiero que primero me ponga una '_' entre una minúscula y una mayúscula.\n",
    "#Segundo convierta todo el texto en minúscula.\n",
    "#Tercero si fuera necesario si encuentra un espacio entre palabras, ponga un '_'.\n",
    "\n",
    "#Importo la libreria.\n",
    "import re\n",
    "\n",
    "# Defino la función\n",
    "def formatear_nombre_columna(nombre_columna):\n",
    "   \n",
    "    nombre_columna = re.sub(r'([a-z])([A-Z])', r'\\1_\\2', nombre_columna) # Incorporo un guion bajo antes de cada mayúscula (excepto la primera)\n",
    "    nombre_columna = nombre_columna.lower() # Lo convierto todo en minúsculas.\n",
    "    nombre_columna = nombre_columna.replace(\" \", \"_\") # Reemplazar espacios con guiones bajos.\n",
    "    \n",
    "    return nombre_columna\n",
    "\n",
    "# Aplico la función a los nombres de las columnas.\n",
    "data.columns = [formatear_nombre_columna(col) for col in data.columns]\n",
    "\n",
    "# Comprobamos.\n",
    "print(data.columns)"
   ]
  },
  {
   "cell_type": "code",
   "execution_count": 23,
   "id": "21a46fbe-6df9-4bbf-8a20-bfb1c943d245",
   "metadata": {
    "tags": []
   },
   "outputs": [
    {
     "data": {
      "text/html": [
       "<div>\n",
       "<style scoped>\n",
       "    .dataframe tbody tr th:only-of-type {\n",
       "        vertical-align: middle;\n",
       "    }\n",
       "\n",
       "    .dataframe tbody tr th {\n",
       "        vertical-align: top;\n",
       "    }\n",
       "\n",
       "    .dataframe thead th {\n",
       "        text-align: right;\n",
       "    }\n",
       "</style>\n",
       "<table border=\"1\" class=\"dataframe\">\n",
       "  <thead>\n",
       "    <tr style=\"text-align: right;\">\n",
       "      <th></th>\n",
       "      <th>gender</th>\n",
       "      <th>senior_citizen</th>\n",
       "      <th>partner</th>\n",
       "      <th>dependents</th>\n",
       "      <th>tenure</th>\n",
       "      <th>phone_service</th>\n",
       "      <th>online_security</th>\n",
       "      <th>online_backup</th>\n",
       "      <th>device_protection</th>\n",
       "      <th>tech_support</th>\n",
       "      <th>streaming_tv</th>\n",
       "      <th>streaming_movies</th>\n",
       "      <th>contract</th>\n",
       "      <th>monthly_charges</th>\n",
       "      <th>total_charges</th>\n",
       "      <th>churn</th>\n",
       "    </tr>\n",
       "  </thead>\n",
       "  <tbody>\n",
       "    <tr>\n",
       "      <th>0</th>\n",
       "      <td>Female</td>\n",
       "      <td>0</td>\n",
       "      <td>Yes</td>\n",
       "      <td>No</td>\n",
       "      <td>1</td>\n",
       "      <td>No</td>\n",
       "      <td>No</td>\n",
       "      <td>Yes</td>\n",
       "      <td>No</td>\n",
       "      <td>No</td>\n",
       "      <td>No</td>\n",
       "      <td>No</td>\n",
       "      <td>Month-to-month</td>\n",
       "      <td>29.85</td>\n",
       "      <td>29.85</td>\n",
       "      <td>No</td>\n",
       "    </tr>\n",
       "    <tr>\n",
       "      <th>1</th>\n",
       "      <td>Male</td>\n",
       "      <td>0</td>\n",
       "      <td>No</td>\n",
       "      <td>No</td>\n",
       "      <td>34</td>\n",
       "      <td>Yes</td>\n",
       "      <td>Yes</td>\n",
       "      <td>No</td>\n",
       "      <td>Yes</td>\n",
       "      <td>No</td>\n",
       "      <td>No</td>\n",
       "      <td>No</td>\n",
       "      <td>One year</td>\n",
       "      <td>56.95</td>\n",
       "      <td>1889.5</td>\n",
       "      <td>No</td>\n",
       "    </tr>\n",
       "    <tr>\n",
       "      <th>2</th>\n",
       "      <td>Male</td>\n",
       "      <td>0</td>\n",
       "      <td>No</td>\n",
       "      <td>No</td>\n",
       "      <td>2</td>\n",
       "      <td>Yes</td>\n",
       "      <td>Yes</td>\n",
       "      <td>Yes</td>\n",
       "      <td>No</td>\n",
       "      <td>No</td>\n",
       "      <td>No</td>\n",
       "      <td>No</td>\n",
       "      <td>Month-to-month</td>\n",
       "      <td>53.85</td>\n",
       "      <td>108.15</td>\n",
       "      <td>Yes</td>\n",
       "    </tr>\n",
       "    <tr>\n",
       "      <th>3</th>\n",
       "      <td>Male</td>\n",
       "      <td>0</td>\n",
       "      <td>No</td>\n",
       "      <td>No</td>\n",
       "      <td>45</td>\n",
       "      <td>No</td>\n",
       "      <td>Yes</td>\n",
       "      <td>No</td>\n",
       "      <td>Yes</td>\n",
       "      <td>Yes</td>\n",
       "      <td>No</td>\n",
       "      <td>No</td>\n",
       "      <td>One year</td>\n",
       "      <td>42.30</td>\n",
       "      <td>1840.75</td>\n",
       "      <td>No</td>\n",
       "    </tr>\n",
       "    <tr>\n",
       "      <th>4</th>\n",
       "      <td>Female</td>\n",
       "      <td>0</td>\n",
       "      <td>No</td>\n",
       "      <td>No</td>\n",
       "      <td>2</td>\n",
       "      <td>Yes</td>\n",
       "      <td>No</td>\n",
       "      <td>No</td>\n",
       "      <td>No</td>\n",
       "      <td>No</td>\n",
       "      <td>No</td>\n",
       "      <td>No</td>\n",
       "      <td>Month-to-month</td>\n",
       "      <td>70.70</td>\n",
       "      <td>151.65</td>\n",
       "      <td>Yes</td>\n",
       "    </tr>\n",
       "  </tbody>\n",
       "</table>\n",
       "</div>"
      ],
      "text/plain": [
       "   gender  senior_citizen partner dependents  tenure phone_service  \\\n",
       "0  Female               0     Yes         No       1            No   \n",
       "1    Male               0      No         No      34           Yes   \n",
       "2    Male               0      No         No       2           Yes   \n",
       "3    Male               0      No         No      45            No   \n",
       "4  Female               0      No         No       2           Yes   \n",
       "\n",
       "  online_security online_backup device_protection tech_support streaming_tv  \\\n",
       "0              No           Yes                No           No           No   \n",
       "1             Yes            No               Yes           No           No   \n",
       "2             Yes           Yes                No           No           No   \n",
       "3             Yes            No               Yes          Yes           No   \n",
       "4              No            No                No           No           No   \n",
       "\n",
       "  streaming_movies        contract  monthly_charges total_charges churn  \n",
       "0               No  Month-to-month            29.85         29.85    No  \n",
       "1               No        One year            56.95        1889.5    No  \n",
       "2               No  Month-to-month            53.85        108.15   Yes  \n",
       "3               No        One year            42.30       1840.75    No  \n",
       "4               No  Month-to-month            70.70        151.65   Yes  "
      ]
     },
     "execution_count": 23,
     "metadata": {},
     "output_type": "execute_result"
    }
   ],
   "source": [
    "data.head()"
   ]
  },
  {
   "cell_type": "code",
   "execution_count": 24,
   "id": "50d88842-d0bf-44c1-823c-b9059b97f7a4",
   "metadata": {},
   "outputs": [
    {
     "name": "stdout",
     "output_type": "stream",
     "text": [
      "<class 'pandas.core.frame.DataFrame'>\n",
      "RangeIndex: 7043 entries, 0 to 7042\n",
      "Data columns (total 16 columns):\n",
      " #   Column             Non-Null Count  Dtype  \n",
      "---  ------             --------------  -----  \n",
      " 0   gender             7043 non-null   object \n",
      " 1   senior_citizen     7043 non-null   int64  \n",
      " 2   partner            7043 non-null   object \n",
      " 3   dependents         7043 non-null   object \n",
      " 4   tenure             7043 non-null   int64  \n",
      " 5   phone_service      7043 non-null   object \n",
      " 6   online_security    7043 non-null   object \n",
      " 7   online_backup      7043 non-null   object \n",
      " 8   device_protection  7043 non-null   object \n",
      " 9   tech_support       7043 non-null   object \n",
      " 10  streaming_tv       7043 non-null   object \n",
      " 11  streaming_movies   7043 non-null   object \n",
      " 12  contract           7043 non-null   object \n",
      " 13  monthly_charges    7043 non-null   float64\n",
      " 14  total_charges      7043 non-null   object \n",
      " 15  churn              7043 non-null   object \n",
      "dtypes: float64(1), int64(2), object(13)\n",
      "memory usage: 880.5+ KB\n"
     ]
    }
   ],
   "source": [
    "data.info()"
   ]
  },
  {
   "cell_type": "code",
   "execution_count": 25,
   "id": "34e74b4d-4a20-4254-a4b4-61b6e6d5b164",
   "metadata": {
    "tags": []
   },
   "outputs": [],
   "source": [
    "#Voy aconvertir la columna `TotalCharges` de tipo objeto a tipo numérico.\n",
    "data['total_charges']=pd.to_numeric(data['total_charges'], errors='coerce')"
   ]
  },
  {
   "cell_type": "code",
   "execution_count": 26,
   "id": "ca7724e4-fcca-42de-89f0-0311d6282f7d",
   "metadata": {
    "tags": []
   },
   "outputs": [
    {
     "data": {
      "text/plain": [
       "gender                0\n",
       "senior_citizen        0\n",
       "partner               0\n",
       "dependents            0\n",
       "tenure                0\n",
       "phone_service         0\n",
       "online_security       0\n",
       "online_backup         0\n",
       "device_protection     0\n",
       "tech_support          0\n",
       "streaming_tv          0\n",
       "streaming_movies      0\n",
       "contract              0\n",
       "monthly_charges       0\n",
       "total_charges        11\n",
       "churn                 0\n",
       "dtype: int64"
      ]
     },
     "execution_count": 26,
     "metadata": {},
     "output_type": "execute_result"
    }
   ],
   "source": [
    "#Vamos a ver si tenemos nulos en el DataFrame\n",
    "data.isnull().sum()"
   ]
  },
  {
   "cell_type": "code",
   "execution_count": 27,
   "id": "246c0a46-d54f-4556-bcd3-9a902a7d725d",
   "metadata": {
    "tags": []
   },
   "outputs": [],
   "source": [
    "#Voy a imputar los nulos conla media.\n",
    "data['total_charges'].fillna(data['total_charges'].median(), inplace=True)"
   ]
  },
  {
   "cell_type": "code",
   "execution_count": 28,
   "id": "ad3301c6-e9d9-4088-bb0a-da406d581a63",
   "metadata": {
    "tags": []
   },
   "outputs": [
    {
     "data": {
      "text/html": [
       "<div>\n",
       "<style scoped>\n",
       "    .dataframe tbody tr th:only-of-type {\n",
       "        vertical-align: middle;\n",
       "    }\n",
       "\n",
       "    .dataframe tbody tr th {\n",
       "        vertical-align: top;\n",
       "    }\n",
       "\n",
       "    .dataframe thead th {\n",
       "        text-align: right;\n",
       "    }\n",
       "</style>\n",
       "<table border=\"1\" class=\"dataframe\">\n",
       "  <thead>\n",
       "    <tr style=\"text-align: right;\">\n",
       "      <th></th>\n",
       "      <th>gender</th>\n",
       "      <th>senior_citizen</th>\n",
       "      <th>partner</th>\n",
       "      <th>dependents</th>\n",
       "      <th>tenure</th>\n",
       "      <th>phone_service</th>\n",
       "      <th>online_security</th>\n",
       "      <th>online_backup</th>\n",
       "      <th>device_protection</th>\n",
       "      <th>tech_support</th>\n",
       "      <th>streaming_tv</th>\n",
       "      <th>streaming_movies</th>\n",
       "      <th>contract</th>\n",
       "      <th>monthly_charges</th>\n",
       "      <th>total_charges</th>\n",
       "      <th>churn</th>\n",
       "    </tr>\n",
       "  </thead>\n",
       "  <tbody>\n",
       "    <tr>\n",
       "      <th>0</th>\n",
       "      <td>Female</td>\n",
       "      <td>0</td>\n",
       "      <td>Yes</td>\n",
       "      <td>No</td>\n",
       "      <td>1</td>\n",
       "      <td>No</td>\n",
       "      <td>No</td>\n",
       "      <td>Yes</td>\n",
       "      <td>No</td>\n",
       "      <td>No</td>\n",
       "      <td>No</td>\n",
       "      <td>No</td>\n",
       "      <td>Month-to-month</td>\n",
       "      <td>29.85</td>\n",
       "      <td>29.85</td>\n",
       "      <td>No</td>\n",
       "    </tr>\n",
       "    <tr>\n",
       "      <th>1</th>\n",
       "      <td>Male</td>\n",
       "      <td>0</td>\n",
       "      <td>No</td>\n",
       "      <td>No</td>\n",
       "      <td>34</td>\n",
       "      <td>Yes</td>\n",
       "      <td>Yes</td>\n",
       "      <td>No</td>\n",
       "      <td>Yes</td>\n",
       "      <td>No</td>\n",
       "      <td>No</td>\n",
       "      <td>No</td>\n",
       "      <td>One year</td>\n",
       "      <td>56.95</td>\n",
       "      <td>1889.50</td>\n",
       "      <td>No</td>\n",
       "    </tr>\n",
       "    <tr>\n",
       "      <th>2</th>\n",
       "      <td>Male</td>\n",
       "      <td>0</td>\n",
       "      <td>No</td>\n",
       "      <td>No</td>\n",
       "      <td>2</td>\n",
       "      <td>Yes</td>\n",
       "      <td>Yes</td>\n",
       "      <td>Yes</td>\n",
       "      <td>No</td>\n",
       "      <td>No</td>\n",
       "      <td>No</td>\n",
       "      <td>No</td>\n",
       "      <td>Month-to-month</td>\n",
       "      <td>53.85</td>\n",
       "      <td>108.15</td>\n",
       "      <td>Yes</td>\n",
       "    </tr>\n",
       "    <tr>\n",
       "      <th>3</th>\n",
       "      <td>Male</td>\n",
       "      <td>0</td>\n",
       "      <td>No</td>\n",
       "      <td>No</td>\n",
       "      <td>45</td>\n",
       "      <td>No</td>\n",
       "      <td>Yes</td>\n",
       "      <td>No</td>\n",
       "      <td>Yes</td>\n",
       "      <td>Yes</td>\n",
       "      <td>No</td>\n",
       "      <td>No</td>\n",
       "      <td>One year</td>\n",
       "      <td>42.30</td>\n",
       "      <td>1840.75</td>\n",
       "      <td>No</td>\n",
       "    </tr>\n",
       "    <tr>\n",
       "      <th>4</th>\n",
       "      <td>Female</td>\n",
       "      <td>0</td>\n",
       "      <td>No</td>\n",
       "      <td>No</td>\n",
       "      <td>2</td>\n",
       "      <td>Yes</td>\n",
       "      <td>No</td>\n",
       "      <td>No</td>\n",
       "      <td>No</td>\n",
       "      <td>No</td>\n",
       "      <td>No</td>\n",
       "      <td>No</td>\n",
       "      <td>Month-to-month</td>\n",
       "      <td>70.70</td>\n",
       "      <td>151.65</td>\n",
       "      <td>Yes</td>\n",
       "    </tr>\n",
       "  </tbody>\n",
       "</table>\n",
       "</div>"
      ],
      "text/plain": [
       "   gender  senior_citizen partner dependents  tenure phone_service  \\\n",
       "0  Female               0     Yes         No       1            No   \n",
       "1    Male               0      No         No      34           Yes   \n",
       "2    Male               0      No         No       2           Yes   \n",
       "3    Male               0      No         No      45            No   \n",
       "4  Female               0      No         No       2           Yes   \n",
       "\n",
       "  online_security online_backup device_protection tech_support streaming_tv  \\\n",
       "0              No           Yes                No           No           No   \n",
       "1             Yes            No               Yes           No           No   \n",
       "2             Yes           Yes                No           No           No   \n",
       "3             Yes            No               Yes          Yes           No   \n",
       "4              No            No                No           No           No   \n",
       "\n",
       "  streaming_movies        contract  monthly_charges  total_charges churn  \n",
       "0               No  Month-to-month            29.85          29.85    No  \n",
       "1               No        One year            56.95        1889.50    No  \n",
       "2               No  Month-to-month            53.85         108.15   Yes  \n",
       "3               No        One year            42.30        1840.75    No  \n",
       "4               No  Month-to-month            70.70         151.65   Yes  "
      ]
     },
     "execution_count": 28,
     "metadata": {},
     "output_type": "execute_result"
    }
   ],
   "source": [
    "data.head()"
   ]
  },
  {
   "cell_type": "code",
   "execution_count": 29,
   "id": "d56d319d-ad70-404c-81cc-8b90b3ce939f",
   "metadata": {
    "tags": []
   },
   "outputs": [
    {
     "data": {
      "text/plain": [
       "gender               0\n",
       "senior_citizen       0\n",
       "partner              0\n",
       "dependents           0\n",
       "tenure               0\n",
       "phone_service        0\n",
       "online_security      0\n",
       "online_backup        0\n",
       "device_protection    0\n",
       "tech_support         0\n",
       "streaming_tv         0\n",
       "streaming_movies     0\n",
       "contract             0\n",
       "monthly_charges      0\n",
       "total_charges        0\n",
       "churn                0\n",
       "dtype: int64"
      ]
     },
     "execution_count": 29,
     "metadata": {},
     "output_type": "execute_result"
    }
   ],
   "source": [
    "#Comprobamos\n",
    "data.isnull().sum()"
   ]
  },
  {
   "cell_type": "markdown",
   "id": "34d45eaf-53fc-4a1f-acb8-933dadc11004",
   "metadata": {},
   "source": [
    "## Preparación de los datos."
   ]
  },
  {
   "cell_type": "markdown",
   "id": "a50e5782-2c49-4602-8557-a4a1ee3d3af8",
   "metadata": {},
   "source": [
    "Voy a convertir las varibales categóricas a numéricas y selecionar la varibale objetivo."
   ]
  },
  {
   "cell_type": "code",
   "execution_count": 31,
   "id": "56953bc5-614e-4a27-ae7e-4d12825cdfd8",
   "metadata": {
    "tags": []
   },
   "outputs": [],
   "source": [
    "# Convierto la columna 'Churn' a valores numéricos\n",
    "data['churn'] = data['churn'].apply(lambda x: 1 if x == 'Yes' else 0)\n",
    "\n",
    "# Voy a convertir las variables categóricas a variables dummy.\n",
    "data_dummies = pd.get_dummies(data, drop_first=True)\n",
    "\n",
    "# Separo las features de la variable objetivo.\n",
    "X = data_dummies.drop('churn', axis=1)\n",
    "y = data_dummies['churn']"
   ]
  },
  {
   "cell_type": "markdown",
   "id": "bb351ad3-beb3-4a05-b4ae-83586b13a631",
   "metadata": {},
   "source": [
    "## Dividir los datos en conjuntos de \"Train\" y \"Test\"."
   ]
  },
  {
   "cell_type": "code",
   "execution_count": 32,
   "id": "a74fa3b7-1100-4753-8ed2-b6e41e8a11ed",
   "metadata": {
    "tags": []
   },
   "outputs": [],
   "source": [
    "# Divido los datos en X_train, X_test, y_train e y_test.\n",
    "X_train, X_test, y_train, y_test = train_test_split(X, y, test_size=0.2, random_state=42, stratify=y)"
   ]
  },
  {
   "cell_type": "markdown",
   "id": "00d3dc87-1c4c-45c9-81e4-eb5349a520ad",
   "metadata": {},
   "source": [
    "## Aplico SMOTE para aumentar la clase minoritaria."
   ]
  },
  {
   "cell_type": "code",
   "execution_count": 33,
   "id": "f43a4882-2e87-4ef8-85b7-7f5cb4397dd0",
   "metadata": {
    "tags": []
   },
   "outputs": [
    {
     "name": "stdout",
     "output_type": "stream",
     "text": [
      "churn\n",
      "0    4139\n",
      "1    4139\n",
      "Name: count, dtype: int64\n"
     ]
    }
   ],
   "source": [
    "# Aplico SMOTE.\n",
    "smote = SMOTE(random_state=42)\n",
    "X_train_smote, y_train_smote = smote.fit_resample(X_train, y_train)\n",
    "\n",
    "# Verifico el balance después de usar SMOTE.\n",
    "print(y_train_smote.value_counts())"
   ]
  },
  {
   "cell_type": "markdown",
   "id": "d7e31c1d-1a45-46eb-b34c-367c116fd892",
   "metadata": {},
   "source": [
    "## Entreno y evaluo el modelo de regresión logística."
   ]
  },
  {
   "cell_type": "code",
   "execution_count": 34,
   "id": "515bd63c-9541-44c5-bc30-09e47cb853c9",
   "metadata": {
    "tags": []
   },
   "outputs": [
    {
     "name": "stdout",
     "output_type": "stream",
     "text": [
      "Accuracy del modelo de regresión logística con SMOTE: 0.71611071682044\n",
      "              precision    recall  f1-score   support\n",
      "\n",
      "           0       0.88      0.71      0.79      1035\n",
      "           1       0.48      0.73      0.58       374\n",
      "\n",
      "    accuracy                           0.72      1409\n",
      "   macro avg       0.68      0.72      0.68      1409\n",
      "weighted avg       0.77      0.72      0.73      1409\n",
      "\n"
     ]
    }
   ],
   "source": [
    "# Entreno el modelo de regresión logística.\n",
    "log_reg = LogisticRegression(random_state=42)\n",
    "log_reg.fit(X_train_smote, y_train_smote)\n",
    "\n",
    "# Predección y evaluación.\n",
    "y_pred_log_reg = log_reg.predict(X_test)\n",
    "\n",
    "print(\"Accuracy del modelo de regresión logística con SMOTE:\", accuracy_score(y_test, y_pred_log_reg))\n",
    "print(classification_report(y_test, y_pred_log_reg))"
   ]
  },
  {
   "cell_type": "markdown",
   "id": "9b833479-b14c-4e00-9523-712a035d69b2",
   "metadata": {},
   "source": [
    "## Entreno y evaluo el modelo \"Decision Tree\"."
   ]
  },
  {
   "cell_type": "code",
   "execution_count": 37,
   "id": "7a486322-26e0-4c71-8fe1-b622ee153eef",
   "metadata": {
    "tags": []
   },
   "outputs": [
    {
     "name": "stdout",
     "output_type": "stream",
     "text": [
      "Accuracy del modelo Decision Tree con SMOTE: 0.6990773598296665\n",
      "              precision    recall  f1-score   support\n",
      "\n",
      "           0       0.82      0.76      0.79      1035\n",
      "           1       0.44      0.53      0.48       374\n",
      "\n",
      "    accuracy                           0.70      1409\n",
      "   macro avg       0.63      0.65      0.64      1409\n",
      "weighted avg       0.72      0.70      0.71      1409\n",
      "\n"
     ]
    }
   ],
   "source": [
    "# Entreno el modelo Decision Tree.\n",
    "tree_clf = DecisionTreeClassifier(random_state=42)\n",
    "tree_clf.fit(X_train_smote, y_train_smote)\n",
    "\n",
    "# Predección y evaluación.\n",
    "y_pred_tree_clf = tree_clf.predict(X_test)\n",
    "\n",
    "print(\"Accuracy del modelo Decision Tree con SMOTE:\", accuracy_score(y_test, y_pred_tree_clf))\n",
    "print(classification_report(y_test, y_pred_tree_clf))"
   ]
  },
  {
   "cell_type": "markdown",
   "id": "f8589937-5086-49d7-9282-0095b740ead6",
   "metadata": {},
   "source": [
    "## Aplico TomekLinks para reducir la clase mayoritaria."
   ]
  },
  {
   "cell_type": "markdown",
   "id": "165d001b-cc9c-48d3-b307-619a67df9bcb",
   "metadata": {},
   "source": [
    "Voy a aplicar TomekLinks para reducir la clase mayoritaria en el conjunto de entrenamiento original."
   ]
  },
  {
   "cell_type": "code",
   "execution_count": 38,
   "id": "6f5b772f-50db-4cb6-af5e-722c3e8ed431",
   "metadata": {
    "tags": []
   },
   "outputs": [
    {
     "name": "stdout",
     "output_type": "stream",
     "text": [
      "churn\n",
      "0    3677\n",
      "1    1495\n",
      "Name: count, dtype: int64\n"
     ]
    }
   ],
   "source": [
    "# Aplico TomekLinks.\n",
    "tomek = TomekLinks()\n",
    "X_train_tomek, y_train_tomek = tomek.fit_resample(X_train, y_train)\n",
    "\n",
    "# Verifico el balance después de usar TomekLinks.\n",
    "print(y_train_tomek.value_counts())"
   ]
  },
  {
   "cell_type": "markdown",
   "id": "0a8bfa69-95af-441e-ab64-f41e83354275",
   "metadata": {},
   "source": [
    "## Entreno y Evaluo el modelo de regresión logística con TomekLinks."
   ]
  },
  {
   "cell_type": "code",
   "execution_count": 39,
   "id": "de1bdbd4-6549-417b-ab65-8e3cdd9bd72b",
   "metadata": {
    "tags": []
   },
   "outputs": [
    {
     "name": "stdout",
     "output_type": "stream",
     "text": [
      "Accuray del modelo de regresión logística con TomekLinks: 0.7927608232789212\n",
      "              precision    recall  f1-score   support\n",
      "\n",
      "           0       0.87      0.85      0.86      1035\n",
      "           1       0.60      0.64      0.62       374\n",
      "\n",
      "    accuracy                           0.79      1409\n",
      "   macro avg       0.74      0.74      0.74      1409\n",
      "weighted avg       0.80      0.79      0.79      1409\n",
      "\n"
     ]
    }
   ],
   "source": [
    "# Entreno el modelo de regresión logística.\n",
    "log_reg_tomek = LogisticRegression(random_state=42)\n",
    "log_reg_tomek.fit(X_train_tomek, y_train_tomek)\n",
    "\n",
    "# Predección y evaluación.\n",
    "y_pred_log_reg_tomek = log_reg_tomek.predict(X_test)\n",
    "\n",
    "print(\"Accuray del modelo de regresión logística con TomekLinks:\", accuracy_score(y_test, y_pred_log_reg_tomek))\n",
    "print(classification_report(y_test, y_pred_log_reg_tomek))"
   ]
  },
  {
   "cell_type": "markdown",
   "id": "85713fd1-4bd3-486d-a557-ea09708f54d7",
   "metadata": {},
   "source": [
    "## Entreno y evaluo el modelo de Decision Tree con TomekLinks."
   ]
  },
  {
   "cell_type": "code",
   "execution_count": 40,
   "id": "2fd3cb6f-7687-4d25-a220-8322bc0101b7",
   "metadata": {
    "tags": []
   },
   "outputs": [
    {
     "name": "stdout",
     "output_type": "stream",
     "text": [
      "Accuracy del modelo Decision Tree con Tomek Links: 0.7267565649396736\n",
      "              precision    recall  f1-score   support\n",
      "\n",
      "           0       0.83      0.79      0.81      1035\n",
      "           1       0.49      0.55      0.52       374\n",
      "\n",
      "    accuracy                           0.73      1409\n",
      "   macro avg       0.66      0.67      0.66      1409\n",
      "weighted avg       0.74      0.73      0.73      1409\n",
      "\n"
     ]
    }
   ],
   "source": [
    "# Entreno el modelo de Decision Tree.\n",
    "tree_clf_tomek = DecisionTreeClassifier(random_state=42)\n",
    "tree_clf_tomek.fit(X_train_tomek, y_train_tomek)\n",
    "\n",
    "# Predección y evaluación.\n",
    "y_pred_tree_clf_tomek = tree_clf_tomek.predict(X_test)\n",
    "\n",
    "print(\"Accuracy del modelo Decision Tree con Tomek Links:\", accuracy_score(y_test, y_pred_tree_clf_tomek))\n",
    "print(classification_report(y_test, y_pred_tree_clf_tomek))"
   ]
  },
  {
   "cell_type": "markdown",
   "id": "aac176a1-9af4-43f5-a6aa-7fa718211e00",
   "metadata": {},
   "source": [
    "## Comparación de lo resultados de los diferentes modelos."
   ]
  },
  {
   "cell_type": "code",
   "execution_count": 42,
   "id": "526bb918-954e-4e7f-8d2a-ba16ba15918c",
   "metadata": {
    "tags": []
   },
   "outputs": [
    {
     "name": "stdout",
     "output_type": "stream",
     "text": [
      "Comparación de accuracy's:\n",
      "Regresión logística con SMOTE: 0.71611071682044\n",
      "Decision Tree con SMOTE: 0.6990773598296665\n",
      "Regresión logística con TomekLinks: 0.7927608232789212\n",
      "Decision Tree con TomekLinks: 0.7267565649396736\n"
     ]
    }
   ],
   "source": [
    "# Coparación de las \"accuracy's\" de todos los modelos.\n",
    "\n",
    "print(\"Comparación de accuracy's:\")\n",
    "\n",
    "print(\"Regresión logística con SMOTE:\", accuracy_score(y_test, y_pred_log_reg))\n",
    "print(\"Decision Tree con SMOTE:\", accuracy_score(y_test, y_pred_tree_clf))\n",
    "\n",
    "print(\"Regresión logística con TomekLinks:\", accuracy_score(y_test, y_pred_log_reg_tomek))\n",
    "print(\"Decision Tree con TomekLinks:\", accuracy_score(y_test, y_pred_tree_clf_tomek))"
   ]
  }
 ],
 "metadata": {
  "kernelspec": {
   "display_name": "Python 3 (ipykernel)",
   "language": "python",
   "name": "python3"
  },
  "language_info": {
   "codemirror_mode": {
    "name": "ipython",
    "version": 3
   },
   "file_extension": ".py",
   "mimetype": "text/x-python",
   "name": "python",
   "nbconvert_exporter": "python",
   "pygments_lexer": "ipython3",
   "version": "3.11.5"
  }
 },
 "nbformat": 4,
 "nbformat_minor": 5
}
